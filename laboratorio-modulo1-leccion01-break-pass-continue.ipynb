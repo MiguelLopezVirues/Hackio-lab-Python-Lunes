{
 "cells": [
  {
   "cell_type": "markdown",
   "metadata": {},
   "source": [
    "\n",
    "<div style=\"text-align: center;\">\n",
    "  <img src=\"https://github.com/Hack-io-Data/Imagenes/blob/main/01-LogosHackio/logo_celeste@4x.png?raw=true\" alt=\"esquema\" />\n",
    "</div>\n"
   ]
  },
  {
   "cell_type": "markdown",
   "metadata": {},
   "source": [
    "# Laboratorio de Python: break(), pass(), continue()"
   ]
  },
  {
   "cell_type": "markdown",
   "metadata": {},
   "source": [
    "## Ejercicio 1: Validación de datos numéricos. \n",
    "\n",
    "Escribe un bucle que lea una lista de números y detenga la ejecución si encuentra un valor negativo. Muestra un mensaje indicando el número negativo encontrado.\n"
   ]
  },
  {
   "cell_type": "code",
   "execution_count": 1,
   "metadata": {},
   "outputs": [
    {
     "name": "stdout",
     "output_type": "stream",
     "text": [
      "-1\n"
     ]
    }
   ],
   "source": [
    "lista = [1,2,3,4,5,6,7,8,-1,45,-7]\n",
    "\n",
    "for i in lista:\n",
    "    if i < 0:\n",
    "        break\n",
    "print(i)"
   ]
  },
  {
   "cell_type": "markdown",
   "metadata": {},
   "source": [
    "\n",
    "## Ejercicio 2: Filtrado de datos\n",
    "\n",
    "Escribe un bucle que imprima los números de una lista, pero que omita los números pares.\n"
   ]
  },
  {
   "cell_type": "code",
   "execution_count": 42,
   "metadata": {},
   "outputs": [
    {
     "name": "stdout",
     "output_type": "stream",
     "text": [
      "1\n",
      "3\n",
      "5\n",
      "7\n",
      "-1\n",
      "45\n",
      "-7\n"
     ]
    }
   ],
   "source": [
    "lista = [1,2,3,4,5,6,7,8,-1,45,-7]\n",
    "\n",
    "for i in lista:\n",
    "    if i % 2 == 0:\n",
    "        continue\n",
    "    else: \n",
    "        print(i)"
   ]
  },
  {
   "cell_type": "markdown",
   "metadata": {},
   "source": [
    "## Ejercicio 3: Búsqueda de un valor\n",
    "\n",
    "Escribe un programa que busque un valor específico en una lista y detenga la búsqueda cuando lo encuentre. Si se encuentra, muestra un mensaje.\n"
   ]
  },
  {
   "cell_type": "code",
   "execution_count": 5,
   "metadata": {},
   "outputs": [
    {
     "name": "stdout",
     "output_type": "stream",
     "text": [
      "Número encontrado en el índice: 6\n"
     ]
    }
   ],
   "source": [
    "from typing import List\n",
    "def busca_valor(lista: List,\n",
    "                objetivo: int):\n",
    "\n",
    "    for i, num in enumerate(lista):\n",
    "        if num == objetivo:\n",
    "            break\n",
    "\n",
    "    print(f\"Número encontrado en el índice: {i}\")\n",
    "\n",
    "busca_valor([1,2,3,4,5,6,7], 7)"
   ]
  },
  {
   "cell_type": "markdown",
   "metadata": {},
   "source": [
    "## Ejercicio 4: Estructura de código incompleto\n",
    "\n",
    "Define una función que aún no tenga lógica implementada, pero que se pueda ejecutar sin errores utilizando `pass`."
   ]
  },
  {
   "cell_type": "code",
   "execution_count": 32,
   "metadata": {},
   "outputs": [],
   "source": [
    "from typing import List\n",
    "def busca_valor(lista: List, objetivo: int):\n",
    "\n",
    "    for i, num in enumerate(lista):\n",
    "        if num == objetivo:\n",
    "            pass\n",
    "\n",
    "        elif num*10 == objetivo:\n",
    "            pass\n",
    "\n",
    "busca_valor([1,2,3,4,5,6,7], 7)"
   ]
  },
  {
   "cell_type": "markdown",
   "metadata": {},
   "source": [
    "## Ejercicio 5: Validación condicional\n",
    "\n",
    "Escribe un bucle que verifique una lista de nombres. Si encuentra un nombre vacío (cadena vacía), salta esa iteración y continúa con los demás nombres.\n"
   ]
  },
  {
   "cell_type": "code",
   "execution_count": 8,
   "metadata": {},
   "outputs": [
    {
     "name": "stdout",
     "output_type": "stream",
     "text": [
      "Hola Ana! Buen nombre :)\n",
      "Hola Jeancha! Buen nombre :)\n",
      "Hola Nelson! Buen nombre :)\n",
      "Hola Ivan! Buen nombre :)\n"
     ]
    }
   ],
   "source": [
    "nombres = ['Ana','Jeancha','', 'Nelson','Ivan']\n",
    "\n",
    "for nombre in nombres:\n",
    "    if nombre == '':\n",
    "        continue\n",
    "\n",
    "    print(f\"Hola {nombre}! Buen nombre :)\")"
   ]
  },
  {
   "cell_type": "markdown",
   "metadata": {},
   "source": [
    "## Ejercicio 6: Búsqueda de claves en un diccionario\n",
    "\n",
    "Escribe un programa que recorra un diccionario y detenga la búsqueda si encuentra una clave específica pasada por el usuario.\n"
   ]
  },
  {
   "cell_type": "code",
   "execution_count": 11,
   "metadata": {},
   "outputs": [
    {
     "name": "stdout",
     "output_type": "stream",
     "text": [
      "Encontrado en el intento 4\n"
     ]
    }
   ],
   "source": [
    "nivel_programacion = {\n",
    "    'Ana': 'Hechicera',\n",
    "    'Jeancha': 'Hechicero',\n",
    "    'Nelson':'Intermedio',\n",
    "    'Ivan': 'Intermedio'\n",
    "\n",
    "}\n",
    "\n",
    "nombre_buscado = input(\"Escribe el nombre que buscas:\")\n",
    "for i,nombre in enumerate(nivel_programacion.keys()):\n",
    "    if nombre == nombre_buscado:\n",
    "        print(f\"Encontrado en el intento {i+1}\")\n",
    "        break"
   ]
  },
  {
   "cell_type": "markdown",
   "metadata": {},
   "source": [
    "## Ejercicio 7: Bucle con múltiples excepciones\n",
    "\n",
    "Escribe un bucle que procese una lista de operaciones matemáticas, omitiendo las operaciones que intenten dividir por cero.\n"
   ]
  },
  {
   "cell_type": "code",
   "execution_count": 7,
   "metadata": {},
   "outputs": [
    {
     "name": "stdout",
     "output_type": "stream",
     "text": [
      "15\n",
      "5\n",
      "Se salta la operación\n",
      "30\n"
     ]
    }
   ],
   "source": [
    "import operator\n",
    "\n",
    "operaciones_nombre = [\"sumar\",\"restar\",\"dividir\",\"multiplicar\"]\n",
    "operaciones = [operator.add,operator.sub,operator.floordiv,operator.mul] # He usado esto tan forzao porque piden una lista EH, QUE CONSTE!! \n",
    "parejas = [(5,10),(7,2),(5,0),(3,10)]\n",
    "\n",
    "\n",
    "for operacion_nombre, operacion, pareja in zip(operaciones_nombre,operaciones,parejas):\n",
    "    if operacion_nombre == 'dividir' and pareja[1]==0:\n",
    "            print(\"Se salta la operación\")\n",
    "            continue\n",
    "    else: \n",
    "        print(operacion(pareja[0],pareja[1]))\n"
   ]
  },
  {
   "cell_type": "markdown",
   "metadata": {},
   "source": [
    "## Ejercicio 8: Búsqueda en una lista anidada\n",
    "\n",
    "Escribe un programa que recorra una lista de listas y detenga la búsqueda cuando encuentre un valor mayor a 50.\n"
   ]
  },
  {
   "cell_type": "code",
   "execution_count": 30,
   "metadata": {},
   "outputs": [
    {
     "name": "stdout",
     "output_type": "stream",
     "text": [
      "Elemento mayor que 50 en la sublista de indice 1, indice de elemento 2.\n"
     ]
    }
   ],
   "source": [
    "lista = [[1,25,45,40,49,45,13],[1,25,59,45,50,63,13],[59,63,13,25,45,40]]\n",
    "\n",
    "for i,sublista in enumerate(lista):\n",
    "    for j,elemento in enumerate(sublista):\n",
    "        if elemento > 50:\n",
    "            print(f\"Elemento mayor que 50 en la sublista de indice {i}, indice de elemento {j}.\")\n",
    "            break\n",
    "    else:\n",
    "        continue\n",
    "    break"
   ]
  },
  {
   "cell_type": "markdown",
   "metadata": {},
   "source": [
    "## Ejercicio 9: Evaluación de series temporales\n",
    "\n",
    "Escribe un programa que recorra una lista de datos de series temporales y se detenga si encuentra un valor atípico (mayor a 100).\n"
   ]
  },
  {
   "cell_type": "code",
   "execution_count": 17,
   "metadata": {},
   "outputs": [
    {
     "name": "stdout",
     "output_type": "stream",
     "text": [
      "Elemento atipico en el timestep 5\n"
     ]
    }
   ],
   "source": [
    "serie = [(0,20),(1,22),(2,26),(3,33),(4,45),(5,300),(6,44)]\n",
    "\n",
    "for timestep, value in serie:\n",
    "    if value > 100:\n",
    "        print(f\"Elemento atipico en el timestep {timestep}\")\n",
    "        break"
   ]
  },
  {
   "cell_type": "markdown",
   "metadata": {},
   "source": [
    "## Ejercicio 10: Iteración con valores faltantes\n",
    "\n",
    "Crea un bucle que recorra una lista de datos de ventas y salte los valores faltantes representados por `None`."
   ]
  },
  {
   "cell_type": "code",
   "execution_count": 19,
   "metadata": {},
   "outputs": [
    {
     "name": "stdout",
     "output_type": "stream",
     "text": [
      "330\n",
      "100\n",
      "400\n",
      "500\n",
      "700\n"
     ]
    }
   ],
   "source": [
    "faltantes = [330,100,400,500,None,700]\n",
    "\n",
    "for valor in faltantes:\n",
    "    if valor is None:\n",
    "        continue\n",
    "    print(valor)"
   ]
  },
  {
   "cell_type": "markdown",
   "metadata": {},
   "source": [
    "## Ejercicio 11: Control de flujo en bucles anidados\n",
    "\n",
    "Escribe un bucle que recorra la matriz dada y se detenga si se encuentra un número negativo, mostrando su posición.\n",
    "\n"
   ]
  },
  {
   "cell_type": "code",
   "execution_count": 24,
   "metadata": {},
   "outputs": [
    {
     "name": "stdout",
     "output_type": "stream",
     "text": [
      "Elemento negativo en (1,3).\n"
     ]
    }
   ],
   "source": [
    "matriz = [[1,25,-45,40,59,63,13],[1,25,59,45,40,63,-13],[59,63,13,25,-45,40]]\n",
    "\n",
    "for i,fila in enumerate(matriz):\n",
    "    for j,elemento in enumerate(fila):\n",
    "        if elemento < 0:\n",
    "            print(f\"Elemento negativo en ({i+1},{j+1}).\")\n",
    "            break\n",
    "    break"
   ]
  },
  {
   "cell_type": "markdown",
   "metadata": {},
   "source": [
    "## Ejercicio 12: Placeholder para funciones incompletas\n",
    "\n",
    "Escribe una función que tenga un bloque de control que aún no esté implementado, utilizando `pass` para que no genere errores."
   ]
  },
  {
   "cell_type": "code",
   "execution_count": 31,
   "metadata": {},
   "outputs": [],
   "source": [
    "from typing import List\n",
    "def busca_bisiesto(lista: List):\n",
    "    for i, num in enumerate(lista):\n",
    "        if num % 4 or (num % 100 == 0 and num % 400 == 0):\n",
    "            pass\n",
    "        else:\n",
    "            pass\n",
    "\n",
    "años = [2000.2001,2002,2003,2004,2005,2006]\n",
    "busca_bisiesto(años)"
   ]
  }
 ],
 "metadata": {
  "kernelspec": {
   "display_name": "maven_course",
   "language": "python",
   "name": "maven_course"
  },
  "language_info": {
   "codemirror_mode": {
    "name": "ipython",
    "version": 3
   },
   "file_extension": ".py",
   "mimetype": "text/x-python",
   "name": "python",
   "nbconvert_exporter": "python",
   "pygments_lexer": "ipython3",
   "version": "3.12.3"
  }
 },
 "nbformat": 4,
 "nbformat_minor": 2
}
