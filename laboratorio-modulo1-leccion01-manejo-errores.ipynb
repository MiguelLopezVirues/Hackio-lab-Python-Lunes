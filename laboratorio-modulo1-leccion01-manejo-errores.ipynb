{
 "cells": [
  {
   "cell_type": "markdown",
   "metadata": {},
   "source": [
    "\n",
    "<div style=\"text-align: center;\">\n",
    "  <img src=\"https://github.com/Hack-io-Data/Imagenes/blob/main/01-LogosHackio/logo_celeste@4x.png?raw=true\" alt=\"esquema\" />\n",
    "</div>\n"
   ]
  },
  {
   "cell_type": "markdown",
   "metadata": {},
   "source": [
    "# Laboratorio de Python: manejo de errores."
   ]
  },
  {
   "cell_type": "markdown",
   "metadata": {},
   "source": [
    "## Ejercicio 1: División con manejo de excepciones\n",
    "\n",
    "Escribe un programa que pida al usuario dos números e intente dividirlos. Si el usuario ingresa un valor no numérico o intenta dividir por cero, maneja esas excepciones de manera adecuada. Asegúrate de mostrar un mensaje indicando si la división fue exitosa o no.\n"
   ]
  },
  {
   "cell_type": "code",
   "execution_count": 3,
   "metadata": {},
   "outputs": [
    {
     "name": "stdout",
     "output_type": "stream",
     "text": [
      "Division entre numero cero no permitida.\n"
     ]
    }
   ],
   "source": [
    "numero1, numero2 = int(input(\"Escribe un numero entero:\")), int(input(\"Escribe otro numero entero:\"))\n",
    "\n",
    "try: \n",
    "    division = numero1 / numero2\n",
    "except ZeroDivisionError:\n",
    "    print(\"Division entre numero cero no permitida.\")\n",
    "else:\n",
    "    print(\"Division exitosa\")"
   ]
  },
  {
   "cell_type": "markdown",
   "metadata": {},
   "source": [
    "## Ejercicio 2: Acceso a archivos\n",
    "\n",
    "Escribe un programa que intente abrir un archivo llamado \"datos.txt\". Si el archivo no existe, captura la excepción y muestra un mensaje de error. Asegúrate de cerrar el archivo correctamente en la sección `finally`.\n"
   ]
  },
  {
   "cell_type": "code",
   "execution_count": 4,
   "metadata": {},
   "outputs": [
    {
     "name": "stdout",
     "output_type": "stream",
     "text": [
      "El archivo no existe.\n"
     ]
    },
    {
     "ename": "NameError",
     "evalue": "name 'archivo' is not defined",
     "output_type": "error",
     "traceback": [
      "\u001b[1;31m---------------------------------------------------------------------------\u001b[0m",
      "\u001b[1;31mNameError\u001b[0m                                 Traceback (most recent call last)",
      "Cell \u001b[1;32mIn[4], line 6\u001b[0m\n\u001b[0;32m      4\u001b[0m     \u001b[38;5;28mprint\u001b[39m(\u001b[38;5;124m\"\u001b[39m\u001b[38;5;124mEl archivo no existe.\u001b[39m\u001b[38;5;124m\"\u001b[39m)\n\u001b[0;32m      5\u001b[0m \u001b[38;5;28;01mfinally\u001b[39;00m:\n\u001b[1;32m----> 6\u001b[0m     \u001b[43marchivo\u001b[49m\u001b[38;5;241m.\u001b[39mclose()\n",
      "\u001b[1;31mNameError\u001b[0m: name 'archivo' is not defined"
     ]
    }
   ],
   "source": [
    "try:\n",
    "    archivo = open(\"lista_compras.txt\")\n",
    "except IOError:\n",
    "    print(\"El archivo no existe.\")\n",
    "# finally:\n",
    "#     archivo.close()\n",
    "else: # El finally no tiene sentido si finalmente hay un error\n",
    "    archivo.close()"
   ]
  },
  {
   "cell_type": "markdown",
   "metadata": {},
   "source": [
    "## Ejercicio 3: Conversión de cadenas a enteros\n",
    "\n",
    "Escribe un programa que pida una lista de números separados por comas y convierta cada valor a un número entero. Maneja las excepciones para valores que no sean convertibles y asegúrate de informar si la conversión fue exitosa o no.\n"
   ]
  },
  {
   "cell_type": "code",
   "execution_count": 13,
   "metadata": {},
   "outputs": [
    {
     "name": "stdout",
     "output_type": "stream",
     "text": [
      "La conversion fue exitosa. El resultado es [5, 5, 5, 5]\n",
      "[5, 5, 5, 5]\n"
     ]
    }
   ],
   "source": [
    "try:\n",
    "    lista_num_str = input(\"Escribe una lista de números enteros separados solo por comas:\").split(\",\")\n",
    "    lista_num = [int(num) for num in lista_num_str]\n",
    "except ValueError:\n",
    "    print(\"Los números introducidos no son válidos\")\n",
    "\n",
    "except:\n",
    "    print(\"Ha habido un error en los números introducidos\")\n",
    "\n",
    "else:\n",
    "    print(\"La conversion fue exitosa. El resultado es\", lista_num)\n"
   ]
  },
  {
   "cell_type": "markdown",
   "metadata": {},
   "source": [
    "#### Ejercicio 4: Cálculo del promedio con manejo de excepciones\n",
    "\n",
    "Escribe una función que reciba una lista de números y calcule su promedio. Si la lista está vacía, lanza una excepción personalizada y maneja el error adecuadamente.\n"
   ]
  },
  {
   "cell_type": "code",
   "execution_count": 18,
   "metadata": {},
   "outputs": [
    {
     "name": "stdout",
     "output_type": "stream",
     "text": [
      "La longitud de la lista es cero\n"
     ]
    }
   ],
   "source": [
    "lista_num = []\n",
    "try:\n",
    "    promedio = sum(lista_num)/len(lista_num)\n",
    "except ZeroDivisionError:\n",
    "    print(\"La longitud de la lista es cero\")\n",
    "except:\n",
    "    print(\"Ha habido un error en los números introducidos\")\n",
    "\n",
    "else:\n",
    "    print(\"El cálculo fue exitoso. El resultado es\", promedio)"
   ]
  },
  {
   "cell_type": "markdown",
   "metadata": {},
   "source": [
    "#### Ejercicio 5: Conversión segura de números\n",
    "\n",
    "Escribe un programa que convierta una cadena a número flotante e intente realizar una operación aritmética. Si la conversión falla, maneja la excepción y continúa con el flujo normal."
   ]
  },
  {
   "cell_type": "code",
   "execution_count": 23,
   "metadata": {},
   "outputs": [
    {
     "name": "stdout",
     "output_type": "stream",
     "text": [
      "El valor introducido no puede convertirse a número\n"
     ]
    }
   ],
   "source": [
    "try:\n",
    "    numero = float(input(\"Escribe un numero entero:\"))\n",
    "    numero_triplicado = numero * 3\n",
    "except ValueError:\n",
    "    print(\"El valor introducido no puede convertirse a número\")\n",
    "except:\n",
    "    print(\"Ha habido un error en los valores introducidos\")\n",
    "\n",
    "else:\n",
    "    print(\"El cálculo fue exitoso. El resultado es\", numero_triplicado)"
   ]
  },
  {
   "cell_type": "markdown",
   "metadata": {},
   "source": [
    "#### Ejercicio 6: Acceso a claves en diccionarios\n",
    "\n",
    "Escribe un programa que intente acceder a una clave específica en un diccionario. Si la clave no existe, maneja la excepción `KeyError` y muestra un mensaje indicando el problema."
   ]
  },
  {
   "cell_type": "code",
   "execution_count": 28,
   "metadata": {},
   "outputs": [
    {
     "name": "stdout",
     "output_type": "stream",
     "text": [
      "El número introducido no pertenece a la lista y no se han registrado aún conversiones para el mismo.\n"
     ]
    }
   ],
   "source": [
    "numeros_romanos = {\n",
    "    1: \"I\",\n",
    "    5: \"V\",\n",
    "    10: \"X\",\n",
    "    50: \"L\"\n",
    "}\n",
    "try:\n",
    "    numero_arabe = int(input(\"Escribe un numero entero a elegir entre [1,5,10,50]:\"))\n",
    "    conversion = numeros_romanos[numero_arabe]\n",
    "except KeyError:\n",
    "    print(\"El número introducido no pertenece a la lista y no se han registrado aún conversiones para el mismo.\")\n",
    "except:\n",
    "    print(\"Ha habido un error en los valores introducidos\")\n",
    "\n",
    "else:\n",
    "    print(f\"La conversion fue exitosa. El resultado es '{conversion}'\")"
   ]
  },
  {
   "cell_type": "markdown",
   "metadata": {},
   "source": [
    "\n",
    "#### Ejercicio 7: Verificación de entradas de usuario\n",
    "\n",
    "Escribe un programa que pida al usuario que introduzca su edad. Si el usuario ingresa un valor no numérico o un valor fuera del rango esperado (por ejemplo, menor que 0 o mayor que 120), maneja las excepciones adecuadamente."
   ]
  },
  {
   "cell_type": "code",
   "execution_count": 31,
   "metadata": {},
   "outputs": [
    {
     "name": "stdout",
     "output_type": "stream",
     "text": [
      "El valor introducido para la edad no es un entero.\n"
     ]
    }
   ],
   "source": [
    "try: \n",
    "    edad = int(input(\"Escribe tu edad:\"))\n",
    "except ValueError:\n",
    "    print(\"El valor introducido para la edad no es un entero.\")\n",
    "else:\n",
    "    if edad < 0 or edad > 120:\n",
    "        print(\"Edad fuera de rango.\")\n",
    "    "
   ]
  },
  {
   "cell_type": "markdown",
   "metadata": {},
   "source": [
    "#### Ejercicio 8: Extracción de valores de una lista\n",
    "\n",
    "Escribe una función que intente acceder a un índice específico en una lista. Si el índice está fuera del rango, maneja la excepción `IndexError` y muestra un mensaje adecuado.\n"
   ]
  },
  {
   "cell_type": "code",
   "execution_count": 34,
   "metadata": {},
   "outputs": [
    {
     "ename": "ValueError",
     "evalue": "invalid literal for int() with base 10: ''",
     "output_type": "error",
     "traceback": [
      "\u001b[1;31m---------------------------------------------------------------------------\u001b[0m",
      "\u001b[1;31mValueError\u001b[0m                                Traceback (most recent call last)",
      "Cell \u001b[1;32mIn[34], line 4\u001b[0m\n\u001b[0;32m      1\u001b[0m lista \u001b[38;5;241m=\u001b[39m [\u001b[38;5;241m4\u001b[39m,\u001b[38;5;241m5\u001b[39m,\u001b[38;5;241m6\u001b[39m,\u001b[38;5;241m7\u001b[39m,\u001b[38;5;241m8\u001b[39m,\u001b[38;5;124m\"\u001b[39m\u001b[38;5;124mPepe\u001b[39m\u001b[38;5;124m\"\u001b[39m]\n\u001b[0;32m      3\u001b[0m \u001b[38;5;28;01mtry\u001b[39;00m:\n\u001b[1;32m----> 4\u001b[0m     indice_extraer \u001b[38;5;241m=\u001b[39m \u001b[38;5;28;43mint\u001b[39;49m\u001b[43m(\u001b[49m\u001b[38;5;28;43minput\u001b[39;49m\u001b[43m(\u001b[49m\u001b[38;5;124;43m\"\u001b[39;49m\u001b[38;5;124;43mIntroduce el valor de índice que deseas extraer:\u001b[39;49m\u001b[38;5;124;43m\"\u001b[39;49m\u001b[43m)\u001b[49m\u001b[43m)\u001b[49m\n\u001b[0;32m      5\u001b[0m     valor_extraido \u001b[38;5;241m=\u001b[39m lista[indice_extraer]\n\u001b[0;32m      6\u001b[0m \u001b[38;5;28;01mexcept\u001b[39;00m \u001b[38;5;167;01mIndexError\u001b[39;00m:\n",
      "\u001b[1;31mValueError\u001b[0m: invalid literal for int() with base 10: ''"
     ]
    }
   ],
   "source": [
    "lista = [4,5,6,7,8,\"Pepe\"]\n",
    "\n",
    "try:\n",
    "    indice_extraer = int(input(\"Introduce el valor de índice que deseas extraer:\"))\n",
    "    valor_extraido = lista[indice_extraer]\n",
    "except IndexError:\n",
    "    print(\"El índice introducido está fuera del rango de longitud de la lista.\")\n",
    "else:\n",
    "    print(f\"El valor extraido es {valor_extraido}\")\n",
    "\n"
   ]
  },
  {
   "cell_type": "code",
   "execution_count": null,
   "metadata": {},
   "outputs": [],
   "source": []
  }
 ],
 "metadata": {
  "kernelspec": {
   "display_name": "maven_course",
   "language": "python",
   "name": "maven_course"
  },
  "language_info": {
   "codemirror_mode": {
    "name": "ipython",
    "version": 3
   },
   "file_extension": ".py",
   "mimetype": "text/x-python",
   "name": "python",
   "nbconvert_exporter": "python",
   "pygments_lexer": "ipython3",
   "version": "3.12.3"
  }
 },
 "nbformat": 4,
 "nbformat_minor": 2
}
